{
 "cells": [
  {
   "cell_type": "markdown",
   "id": "245d6611-2de5-4143-a5e4-cba02efc66a7",
   "metadata": {},
   "source": [
    "# Grover's Algorithm\n",
    "\n",
    "Grover's algorithm is a quantum protocol that has been demonstrated to over a polynomial speed up for the task for searching an unsorted list\n",
    "over he best possible classical algorithm. \n",
    "\n",
    "Say we have a list of $N = 2^n$ elements containing numers. We are looking for an element which in the list which equals $w$, for some arb. number in the list.\n",
    "\n",
    "A classical algorithm would check elements in a sequence if it equals $w$. In the worst case this requires $N$ checks, assuming that the marked element is in a random place in the list, the avergae number of checks that woudl need to be done to find $w$ is $N/2$, therefore the classical algorithm scales as $\\mathcal{O}(N)$.\n",
    "\n",
    "With Grover's algo this task can be accplished in time $\\mathcal{O}(\\sqrt{N})$. \n",
    "\n",
    "For the quantum algo we require Oracle access to the list, i.e. for each index $i$ some blackbox can retrive the value of the element at index $i$. Implementing a large list eg. a phone book is likely to be very slow on current quantum hardware, so for it is best to think of the problem in terms of satisfiabliity. Given a function of boolian contraints $f$, $f: \\{0, 1\\}^n \\rightarrow \\{0, 1\\}$, we want to find $x$ such that $f(x) = 1$.\n",
    "\n",
    "This is implementable with a phase oracle, $\\hat{U}_f$:\n",
    "\n",
    "$$\n",
    "\\hat{U}_f |x \\rangle = (-1)^{f(x)} |x\\rangle,\n",
    "$$\n",
    "\n",
    "i.e. $\\hat{U}_f : |w\\rangle \\rightarrow -|w\\rangle $ and $|x\\rangle \\rightarrow |x\\rangle, \\forall |x\\rangle \\neq |w\\rangle$. Such an oracle can be implemented as a unitary operator:\n",
    "\n",
    "$$\\hat{U}_f = \\mathbb{I} - 2|w\\rangle\\langle w|$$\n",
    "\n",
    "In the algorithm we will need one more Oracle type operator:\n",
    "\n",
    "$$\\hat{U}_{f_0} =  2|0\\rangle\\langle 0|^{\\otimes n} - \\mathbb{I}$$.\n",
    "\n",
    "$\\hat{U}_{f_0} $ flips the phase of all states not equal to the $|00 ... 0\\rangle = |0\\rangle^{\\otimes n}$, i.e. $|0\\rangle^{\\otimes n} \\rightarrow  |0\\rangle^{\\otimes n}$ and $|x\\rangle \\rightarrow -|x\\rangle$ for all $x \\neq 00 ...0$\n",
    "\n",
    "\n",
    "The sketch of the quantum circuit is given as follows:\n",
    "\n",
    "\n",
    "<img src=\"Images/GroverSketch.png\" style=\"height: 200; width:400px;\"/>\n",
    "\n",
    "The claim: $y = w $ (with high probability)\n",
    "\n",
    "Proof:\n",
    "\n",
    "Let us track the state of the state of the qubits through out the circuit. After the Hadamard gates in green the qubits are put in a evenly weighted superposition of the computational basis states $|0\\rangle$ and $|1\\rangle$, $|s \\rangle = H^{\\otimes n} |0\\rangle^{\\otimes n} =\\frac{\\sum_z(-1)^{x \\cdot z}|z\\rangle}{\\sqrt{2^n}} $, but here $z = 00 ...0$ so the innerproduct in the exponent is always 0, which leasd to the simplification:  $|s\\rangle = \\frac{1}{\\sqrt{2^n}} \\sum_{x \\in\\{0,1\\}^n}|x\\rangle$.\n",
    "\n",
    "To understand the action of the rest of the circuit let us introduce some further notation: The part of the circuit marked in mageneta shall be denoted with $\\hat{V} = H^{\\otimes n} \\cdot U_{f_0} \\cdot H^{\\otimes n} = H^{\\otimes n} \\cdot 2 |0\\rangle \\langle 0 |^{\\otimes n} H^{\\otimes n} - H^{\\otimes n} \\mathbb{I} H^{\\otimes n} = 2 |s \\rangle \\langle 0| - \\mathbb{I}$ (substituted the definition of $\\hat{U}_{f_0}$ and simplified). This is called the diffuser in the qiskit textbook: https://learn.qiskit.org/course/ch-algorithms/grovers-algorithm\n",
    "\n",
    "Grover's algoritm carries out the unitary operation (V U_{f})^r. To visulise the action of this operation let $\\Sigma$ be the plane spanned by $|s\\rangle$ and $|w\\rangle$ and $|w ^{\\perp}\\rangle$ be the state orthogonal to $ |w\\rangle $ in the plane $\\Sigma$.\n",
    "\n",
    "$$ |w ^{\\perp}\\rangle = \\frac{1}{\\sqrt{2^n - 1}} \\sum_{x \\neq w} |x\\rangle$$\n",
    "Then the superposition state can be written as:\n",
    "\n",
    "$$\n",
    "|s\\rangle=\\sqrt{\\frac{2^n-1}{2^n}}\\left|\\omega^{\\perp}\\right\\rangle+\\frac{1}{\\sqrt{2^n}}|\\omega\\rangle = \n",
    "\\cos \\frac{\\theta}{2}\\left|\\omega^{\\perp}\\right\\rangle+\\sin \\frac{\\theta}{2}|\\omega\\rangle,\n",
    "$$\n",
    "\n",
    "where $\\theta = 2 \\arcsin(\\frac{1}{\\sqrt{2^n}})$\n",
    "\n",
    "\n",
    "Then the protocol can be plotted in the plane sigma as follows:\n",
    "\n",
    "<img src=\"Images/SigmaPlane.png\" style=\"height: 400; width:400px;\"/>\n",
    "\n",
    "\n",
    "Protocol:\n",
    "\n",
    "1. Prepare $|s\\rangle$ (green)\n",
    "2. Apply $U_f = \\mathbb{I}-2 |w\\rangle \\langle w| $ $\\Rightarrow$ Reflection about $\\left|\\omega^{\\perp}\\right\\rangle$ (yellow)\n",
    "3. Apply $V=2|s \\rangle \\rangle s | - \\mathbb{I}$  $\\Rightarrow$ Reflection about $|s\\rangle$ (2 and 3 have the combined effect of rotating the oroginal state $|s\\rangle$ by an angle $\\theta$)\n",
    "\n",
    "4. Repeat 2. and 3. $r$ times $\\Rightarrow$ rotate $|s\\rangle$  by $r\\theta$\n",
    "\n",
    "We chose $r$ such that the state $|s\\rangle$ is rotated into the state $|w\\rangle$, this means:\n",
    "$$\n",
    "r \\cdot \\theta+\\frac{\\theta}{2} \\stackrel{!}{\\approx} \\frac{\\pi}{2}  \\Rightarrow r=\\frac{\\pi}{2 \\theta}-\\frac{1}{2}=\\frac{\\pi}{4 \\cdot \\arcsin( \\frac{1}{\\sqrt{2^n}})}-\\frac{1}{2} \\stackrel{\\text{n large}}{\\approx} \\frac{\\pi}{4} \\sqrt{2^n}=\\mathcal{O}(\\sqrt{N})\n",
    "$$\n",
    "After $r$ calls to the Oracle the probability to measure $|w\\rangle$ in the $\\{|w\\rangle, |w^{\\perp}\\rangle\\}$ basis is:\n",
    "\n",
    "$$\n",
    "p(w) \\geqslant 1-\\sin ^2 \\frac{\\theta}{2}=1-\\frac{1}{2^n}\n",
    "$$\n",
    "\n",
    "This finishes the proof of Grover's algorithm.\n",
    "\n"
   ]
  },
  {
   "cell_type": "code",
   "execution_count": 33,
   "id": "623c807d-867b-4d51-b860-67264264c0e3",
   "metadata": {},
   "outputs": [],
   "source": [
    "import numpy as np\n",
    "from qiskit import QuantumCircuit, Aer,execute\n",
    "from qiskit.quantum_info import Operator\n",
    "from qiskit.visualization import plot_histogram\n",
    "from qiskit.tools.jupyter import *"
   ]
  },
  {
   "cell_type": "code",
   "execution_count": 34,
   "id": "a04c66b9-e355-4f55-86c3-9a692a055c2c",
   "metadata": {},
   "outputs": [],
   "source": [
    "def PhaseOracle(n, indicies_to_mark, name = \"U_f\"):\n",
    "    qc = QuantumCircuit(n, name = name)\n",
    "    oracle_matrix = np.eye(2**n)\n",
    "    for idx in indicies_to_mark:\n",
    "        oracle_matrix[idx, idx] = -1  # diagonal matrix with 1 at all unmarked, -1 at all marked locs\n",
    "    qc.unitary(Operator(oracle_matrix), range(n))\n",
    "    return qc\n",
    "\n",
    "def Diffuser(n):\n",
    "    qc = QuantumCircuit(n, name=\"V\")\n",
    "    qc.h(range(n)) # apply hadamard to all qubits (magenta)\n",
    "    qc.append (PhaseOracle (n, [0]), range (n)) # U_{f_0}\n",
    "    qc.h (range (n)) # apply hadamard to all qubits again (magenta)\n",
    "    return qc\n",
    "\n",
    "def GroverAlgo(n, marked):\n",
    "    qc = QuantumCircuit(n, n)\n",
    "    r = int(np.round(np.pi/(4*np.arcsin(np.sqrt(len(marked)/2**n)))-1/2))\n",
    "    print (f'{n} qubits, basis state {marked} marked, {r} rounds')\n",
    "    qc.h(range (n)) # hadamard gates in green \n",
    "    for _ in range(r):\n",
    "        qc.append(PhaseOracle(n, marked), range(n)) ## second argument where to connect the appended circuit element\n",
    "        qc.append(Diffuser(n), range(n))\n",
    "    qc.measure(range(n), range(n))\n",
    "    return qc\n",
    "        "
   ]
  },
  {
   "cell_type": "code",
   "execution_count": 35,
   "id": "3b0a5f40-23ab-47c7-901b-1facef829af8",
   "metadata": {},
   "outputs": [
    {
     "name": "stdout",
     "output_type": "stream",
     "text": [
      "[2]\n",
      "4 qubits, basis state [2] marked, 3 rounds\n"
     ]
    },
    {
     "data": {
      "text/html": [
       "<pre style=\"word-wrap: normal;white-space: pre;background: #fff0;line-height: 1.1;font-family: &quot;Courier New&quot;,Courier,monospace\">     ┌───┐┌──────┐┌────┐┌──────┐┌────┐┌──────┐┌────┐┌─┐         \n",
       "q_0: ┤ H ├┤0     ├┤0   ├┤0     ├┤0   ├┤0     ├┤0   ├┤M├─────────\n",
       "     ├───┤│      ││    ││      ││    ││      ││    │└╥┘┌─┐      \n",
       "q_1: ┤ H ├┤1     ├┤1   ├┤1     ├┤1   ├┤1     ├┤1   ├─╫─┤M├──────\n",
       "     ├───┤│  U_f ││  V ││  U_f ││  V ││  U_f ││  V │ ║ └╥┘┌─┐   \n",
       "q_2: ┤ H ├┤2     ├┤2   ├┤2     ├┤2   ├┤2     ├┤2   ├─╫──╫─┤M├───\n",
       "     ├───┤│      ││    ││      ││    ││      ││    │ ║  ║ └╥┘┌─┐\n",
       "q_3: ┤ H ├┤3     ├┤3   ├┤3     ├┤3   ├┤3     ├┤3   ├─╫──╫──╫─┤M├\n",
       "     └───┘└──────┘└────┘└──────┘└────┘└──────┘└────┘ ║  ║  ║ └╥┘\n",
       "c: 4/════════════════════════════════════════════════╩══╩══╩══╩═\n",
       "                                                     0  1  2  3 </pre>"
      ],
      "text/plain": [
       "     ┌───┐┌──────┐┌────┐┌──────┐┌────┐┌──────┐┌────┐┌─┐         \n",
       "q_0: ┤ H ├┤0     ├┤0   ├┤0     ├┤0   ├┤0     ├┤0   ├┤M├─────────\n",
       "     ├───┤│      ││    ││      ││    ││      ││    │└╥┘┌─┐      \n",
       "q_1: ┤ H ├┤1     ├┤1   ├┤1     ├┤1   ├┤1     ├┤1   ├─╫─┤M├──────\n",
       "     ├───┤│  U_f ││  V ││  U_f ││  V ││  U_f ││  V │ ║ └╥┘┌─┐   \n",
       "q_2: ┤ H ├┤2     ├┤2   ├┤2     ├┤2   ├┤2     ├┤2   ├─╫──╫─┤M├───\n",
       "     ├───┤│      ││    ││      ││    ││      ││    │ ║  ║ └╥┘┌─┐\n",
       "q_3: ┤ H ├┤3     ├┤3   ├┤3     ├┤3   ├┤3     ├┤3   ├─╫──╫──╫─┤M├\n",
       "     └───┘└──────┘└────┘└──────┘└────┘└──────┘└────┘ ║  ║  ║ └╥┘\n",
       "c: 4/════════════════════════════════════════════════╩══╩══╩══╩═\n",
       "                                                     0  1  2  3 "
      ]
     },
     "execution_count": 35,
     "metadata": {},
     "output_type": "execute_result"
    }
   ],
   "source": [
    "n = 4\n",
    "x = np.random.randint(2 ** n)\n",
    "\n",
    "print(marked)\n",
    "qc = GroverAlgo(n, marked)\n",
    "\n",
    "qc.draw()\n"
   ]
  },
  {
   "cell_type": "code",
   "execution_count": 36,
   "id": "96f99afb-eb9c-448c-88c4-3d54adce5409",
   "metadata": {},
   "outputs": [
    {
     "name": "stdout",
     "output_type": "stream",
     "text": [
      "{'1001': 25, '1011': 28, '0110': 29, '1010': 27, '0101': 30, '0111': 19, '1101': 31, '1111': 20, '0001': 30, '0011': 18, '1110': 22, '0100': 29, '1100': 18, '1000': 21, '0000': 28, '0010': 9625}\n",
      "2.6082688394304085\n"
     ]
    },
    {
     "data": {
      "image/png": "[encoded data removed]",
      "text/plain": [
       "<Figure size 700x500 with 1 Axes>"
      ]
     },
     "execution_count": 36,
     "metadata": {},
     "output_type": "execute_result"
    }
   ],
   "source": [
    "backend = Aer.get_backend('qasm_simulator')\n",
    "result = execute(qc, backend, shots =10000).result()\n",
    "counts = result.get_counts(qc)\n",
    "\n",
    "print(counts)\n",
    "print(np.pi/(4*np.arcsin(np.sqrt(len(marked)/2**n)))-1/2)\n",
    "plot_histogram(counts)\n"
   ]
  },
  {
   "cell_type": "code",
   "execution_count": null,
   "id": "6c5a8214-a34b-4a7b-8407-b42ca53f5853",
   "metadata": {},
   "outputs": [],
   "source": [
    "# the state 2 that was amrked here is exactly 0010 in binary. \n",
    "# The algo works. The propbability of getting the marked element is not 100% but it is very high,\n",
    "# with the histogram the marked element can be indentidied clearly.\n"
   ]
  }
 ],
 "metadata": {
  "kernelspec": {
   "display_name": "Python 3 (ipykernel)",
   "language": "python",
   "name": "python3"
  },
  "language_info": {
   "codemirror_mode": {
    "name": "ipython",
    "version": 3
   },
   "file_extension": ".py",
   "mimetype": "text/x-python",
   "name": "python",
   "nbconvert_exporter": "python",
   "pygments_lexer": "ipython3",
   "version": "3.11.5"
  }
 },
 "nbformat": 4,
 "nbformat_minor": 5
}
